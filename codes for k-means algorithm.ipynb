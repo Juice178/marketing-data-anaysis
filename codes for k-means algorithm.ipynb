{
 "cells": [
  {
   "cell_type": "code",
   "execution_count": 78,
   "metadata": {
    "collapsed": true
   },
   "outputs": [],
   "source": [
    "import numpy as np\n",
    "import pandas as pd\n",
    "import matplotlib.pyplot as plt\n",
    "import seaborn as sns; sns.set()"
   ]
  },
  {
   "cell_type": "code",
   "execution_count": 79,
   "metadata": {
    "collapsed": true
   },
   "outputs": [],
   "source": [
    "% matplotlib inline"
   ]
  },
  {
   "cell_type": "code",
   "execution_count": 82,
   "metadata": {
    "collapsed": false
   },
   "outputs": [
    {
     "data": {
      "text/plain": [
       "'/Users/kentasuzuki/dataScience/ml/pyMas'"
      ]
     },
     "execution_count": 82,
     "metadata": {},
     "output_type": "execute_result"
    }
   ],
   "source": [
    "pwd"
   ]
  },
  {
   "cell_type": "code",
   "execution_count": 92,
   "metadata": {
    "collapsed": false
   },
   "outputs": [],
   "source": [
    "data = pd.read_csv('/Users/kentasuzuki/apu/data_ana/attitude_add.csv')"
   ]
  },
  {
   "cell_type": "code",
   "execution_count": 93,
   "metadata": {
    "collapsed": false
   },
   "outputs": [
    {
     "data": {
      "text/plain": [
       "(51, 10)"
      ]
     },
     "execution_count": 93,
     "metadata": {},
     "output_type": "execute_result"
    }
   ],
   "source": [
    "data.shape"
   ]
  },
  {
   "cell_type": "code",
   "execution_count": 94,
   "metadata": {
    "collapsed": false
   },
   "outputs": [
    {
     "data": {
      "text/html": [
       "<div>\n",
       "<table border=\"1\" class=\"dataframe\">\n",
       "  <thead>\n",
       "    <tr style=\"text-align: right;\">\n",
       "      <th></th>\n",
       "      <th>Timestamp</th>\n",
       "      <th>Unnamed: 1</th>\n",
       "      <th>Group work in major classes is useful for my career, because it makes me gain a lot of skill</th>\n",
       "      <th>APU professors have enough methodological skills</th>\n",
       "      <th>I am satisfied with content of the major classes and I think they will be useful in my after university life</th>\n",
       "      <th>I think liberal art subjects are helpful for me</th>\n",
       "      <th>I think most of APU students study Japanese language only for their future career</th>\n",
       "      <th>on line learning is much more useful than classes at APU</th>\n",
       "      <th>Unnamed: 8</th>\n",
       "      <th>Unnamed: 9</th>\n",
       "    </tr>\n",
       "  </thead>\n",
       "  <tbody>\n",
       "    <tr>\n",
       "      <th>0</th>\n",
       "      <td>1/12/17 20:46</td>\n",
       "      <td>NaN</td>\n",
       "      <td>Agree</td>\n",
       "      <td>Neutral</td>\n",
       "      <td>Strongly agree</td>\n",
       "      <td>Agree</td>\n",
       "      <td>Strongly agree</td>\n",
       "      <td>Neutral</td>\n",
       "      <td>NaN</td>\n",
       "      <td>NaN</td>\n",
       "    </tr>\n",
       "    <tr>\n",
       "      <th>1</th>\n",
       "      <td>1/12/17 20:55</td>\n",
       "      <td>NaN</td>\n",
       "      <td>Agree</td>\n",
       "      <td>Neutral</td>\n",
       "      <td>Strongly agree</td>\n",
       "      <td>Agree</td>\n",
       "      <td>Strongly agree</td>\n",
       "      <td>Neutral</td>\n",
       "      <td>NaN</td>\n",
       "      <td>NaN</td>\n",
       "    </tr>\n",
       "    <tr>\n",
       "      <th>2</th>\n",
       "      <td>1/12/17 20:56</td>\n",
       "      <td>NaN</td>\n",
       "      <td>Neutral</td>\n",
       "      <td>Neutral</td>\n",
       "      <td>Neutral</td>\n",
       "      <td>Neutral</td>\n",
       "      <td>Neutral</td>\n",
       "      <td>Neutral</td>\n",
       "      <td>NaN</td>\n",
       "      <td>NaN</td>\n",
       "    </tr>\n",
       "    <tr>\n",
       "      <th>3</th>\n",
       "      <td>1/12/17 22:06</td>\n",
       "      <td>NaN</td>\n",
       "      <td>Agree</td>\n",
       "      <td>Disagree</td>\n",
       "      <td>Neutral</td>\n",
       "      <td>Agree</td>\n",
       "      <td>Strongly disagree</td>\n",
       "      <td>Neutral</td>\n",
       "      <td>NaN</td>\n",
       "      <td>NaN</td>\n",
       "    </tr>\n",
       "    <tr>\n",
       "      <th>4</th>\n",
       "      <td>1/12/17 22:07</td>\n",
       "      <td>NaN</td>\n",
       "      <td>Neutral</td>\n",
       "      <td>Neutral</td>\n",
       "      <td>Neutral</td>\n",
       "      <td>Agree</td>\n",
       "      <td>Disagree</td>\n",
       "      <td>Neutral</td>\n",
       "      <td>NaN</td>\n",
       "      <td>NaN</td>\n",
       "    </tr>\n",
       "  </tbody>\n",
       "</table>\n",
       "</div>"
      ],
      "text/plain": [
       "       Timestamp  Unnamed: 1  \\\n",
       "0  1/12/17 20:46         NaN   \n",
       "1  1/12/17 20:55         NaN   \n",
       "2  1/12/17 20:56         NaN   \n",
       "3  1/12/17 22:06         NaN   \n",
       "4  1/12/17 22:07         NaN   \n",
       "\n",
       "  Group work in major classes is useful for my career, because it makes me gain a lot of skill  \\\n",
       "0                                              Agree                                             \n",
       "1                                              Agree                                             \n",
       "2                                            Neutral                                             \n",
       "3                                              Agree                                             \n",
       "4                                            Neutral                                             \n",
       "\n",
       "  APU professors have enough methodological skills  \\\n",
       "0                                          Neutral   \n",
       "1                                          Neutral   \n",
       "2                                          Neutral   \n",
       "3                                         Disagree   \n",
       "4                                          Neutral   \n",
       "\n",
       "  I am satisfied with content of the major classes and I think they will be useful in my after university life  \\\n",
       "0                                     Strongly agree                                                             \n",
       "1                                     Strongly agree                                                             \n",
       "2                                            Neutral                                                             \n",
       "3                                            Neutral                                                             \n",
       "4                                            Neutral                                                             \n",
       "\n",
       "   I think liberal art subjects are helpful for me  \\\n",
       "0                                            Agree   \n",
       "1                                            Agree   \n",
       "2                                          Neutral   \n",
       "3                                            Agree   \n",
       "4                                            Agree   \n",
       "\n",
       "   I think most of APU students study Japanese language only for their future career  \\\n",
       "0                                     Strongly agree                                   \n",
       "1                                     Strongly agree                                   \n",
       "2                                            Neutral                                   \n",
       "3                                  Strongly disagree                                   \n",
       "4                                           Disagree                                   \n",
       "\n",
       "  on line learning is much more useful than classes at APU  Unnamed: 8  \\\n",
       "0                                            Neutral               NaN   \n",
       "1                                            Neutral               NaN   \n",
       "2                                            Neutral               NaN   \n",
       "3                                            Neutral               NaN   \n",
       "4                                            Neutral               NaN   \n",
       "\n",
       "  Unnamed: 9  \n",
       "0        NaN  \n",
       "1        NaN  \n",
       "2        NaN  \n",
       "3        NaN  \n",
       "4        NaN  "
      ]
     },
     "execution_count": 94,
     "metadata": {},
     "output_type": "execute_result"
    }
   ],
   "source": [
    "data.head()"
   ]
  },
  {
   "cell_type": "code",
   "execution_count": 95,
   "metadata": {
    "collapsed": false
   },
   "outputs": [
    {
     "data": {
      "text/html": [
       "<div>\n",
       "<table border=\"1\" class=\"dataframe\">\n",
       "  <thead>\n",
       "    <tr style=\"text-align: right;\">\n",
       "      <th></th>\n",
       "      <th>Unnamed: 1</th>\n",
       "      <th>Unnamed: 8</th>\n",
       "    </tr>\n",
       "  </thead>\n",
       "  <tbody>\n",
       "    <tr>\n",
       "      <th>count</th>\n",
       "      <td>0.0</td>\n",
       "      <td>0.0</td>\n",
       "    </tr>\n",
       "    <tr>\n",
       "      <th>mean</th>\n",
       "      <td>NaN</td>\n",
       "      <td>NaN</td>\n",
       "    </tr>\n",
       "    <tr>\n",
       "      <th>std</th>\n",
       "      <td>NaN</td>\n",
       "      <td>NaN</td>\n",
       "    </tr>\n",
       "    <tr>\n",
       "      <th>min</th>\n",
       "      <td>NaN</td>\n",
       "      <td>NaN</td>\n",
       "    </tr>\n",
       "    <tr>\n",
       "      <th>25%</th>\n",
       "      <td>NaN</td>\n",
       "      <td>NaN</td>\n",
       "    </tr>\n",
       "    <tr>\n",
       "      <th>50%</th>\n",
       "      <td>NaN</td>\n",
       "      <td>NaN</td>\n",
       "    </tr>\n",
       "    <tr>\n",
       "      <th>75%</th>\n",
       "      <td>NaN</td>\n",
       "      <td>NaN</td>\n",
       "    </tr>\n",
       "    <tr>\n",
       "      <th>max</th>\n",
       "      <td>NaN</td>\n",
       "      <td>NaN</td>\n",
       "    </tr>\n",
       "  </tbody>\n",
       "</table>\n",
       "</div>"
      ],
      "text/plain": [
       "       Unnamed: 1  Unnamed: 8\n",
       "count         0.0         0.0\n",
       "mean          NaN         NaN\n",
       "std           NaN         NaN\n",
       "min           NaN         NaN\n",
       "25%           NaN         NaN\n",
       "50%           NaN         NaN\n",
       "75%           NaN         NaN\n",
       "max           NaN         NaN"
      ]
     },
     "execution_count": 95,
     "metadata": {},
     "output_type": "execute_result"
    }
   ],
   "source": [
    "data.describe()"
   ]
  },
  {
   "cell_type": "code",
   "execution_count": 96,
   "metadata": {
    "collapsed": false
   },
   "outputs": [],
   "source": [
    "data.drop('Timestamp',1, inplace=True)\n",
    "data.drop(['Unnamed: 1', 'Unnamed: 8', 'Unnamed: 9'], 1, inplace=True)"
   ]
  },
  {
   "cell_type": "code",
   "execution_count": 99,
   "metadata": {
    "collapsed": false
   },
   "outputs": [
    {
     "name": "stdout",
     "output_type": "stream",
     "text": [
      "(51, 6)\n"
     ]
    },
    {
     "data": {
      "text/html": [
       "<div>\n",
       "<table border=\"1\" class=\"dataframe\">\n",
       "  <thead>\n",
       "    <tr style=\"text-align: right;\">\n",
       "      <th></th>\n",
       "      <th>Group work in major classes is useful for my career, because it makes me gain a lot of skill</th>\n",
       "      <th>APU professors have enough methodological skills</th>\n",
       "      <th>I am satisfied with content of the major classes and I think they will be useful in my after university life</th>\n",
       "      <th>I think liberal art subjects are helpful for me</th>\n",
       "      <th>I think most of APU students study Japanese language only for their future career</th>\n",
       "      <th>on line learning is much more useful than classes at APU</th>\n",
       "    </tr>\n",
       "  </thead>\n",
       "  <tbody>\n",
       "    <tr>\n",
       "      <th>0</th>\n",
       "      <td>Agree</td>\n",
       "      <td>Neutral</td>\n",
       "      <td>Strongly agree</td>\n",
       "      <td>Agree</td>\n",
       "      <td>Strongly agree</td>\n",
       "      <td>Neutral</td>\n",
       "    </tr>\n",
       "    <tr>\n",
       "      <th>1</th>\n",
       "      <td>Agree</td>\n",
       "      <td>Neutral</td>\n",
       "      <td>Strongly agree</td>\n",
       "      <td>Agree</td>\n",
       "      <td>Strongly agree</td>\n",
       "      <td>Neutral</td>\n",
       "    </tr>\n",
       "    <tr>\n",
       "      <th>2</th>\n",
       "      <td>Neutral</td>\n",
       "      <td>Neutral</td>\n",
       "      <td>Neutral</td>\n",
       "      <td>Neutral</td>\n",
       "      <td>Neutral</td>\n",
       "      <td>Neutral</td>\n",
       "    </tr>\n",
       "    <tr>\n",
       "      <th>3</th>\n",
       "      <td>Agree</td>\n",
       "      <td>Disagree</td>\n",
       "      <td>Neutral</td>\n",
       "      <td>Agree</td>\n",
       "      <td>Strongly disagree</td>\n",
       "      <td>Neutral</td>\n",
       "    </tr>\n",
       "    <tr>\n",
       "      <th>4</th>\n",
       "      <td>Neutral</td>\n",
       "      <td>Neutral</td>\n",
       "      <td>Neutral</td>\n",
       "      <td>Agree</td>\n",
       "      <td>Disagree</td>\n",
       "      <td>Neutral</td>\n",
       "    </tr>\n",
       "  </tbody>\n",
       "</table>\n",
       "</div>"
      ],
      "text/plain": [
       "  Group work in major classes is useful for my career, because it makes me gain a lot of skill  \\\n",
       "0                                              Agree                                             \n",
       "1                                              Agree                                             \n",
       "2                                            Neutral                                             \n",
       "3                                              Agree                                             \n",
       "4                                            Neutral                                             \n",
       "\n",
       "  APU professors have enough methodological skills  \\\n",
       "0                                          Neutral   \n",
       "1                                          Neutral   \n",
       "2                                          Neutral   \n",
       "3                                         Disagree   \n",
       "4                                          Neutral   \n",
       "\n",
       "  I am satisfied with content of the major classes and I think they will be useful in my after university life  \\\n",
       "0                                     Strongly agree                                                             \n",
       "1                                     Strongly agree                                                             \n",
       "2                                            Neutral                                                             \n",
       "3                                            Neutral                                                             \n",
       "4                                            Neutral                                                             \n",
       "\n",
       "   I think liberal art subjects are helpful for me  \\\n",
       "0                                            Agree   \n",
       "1                                            Agree   \n",
       "2                                          Neutral   \n",
       "3                                            Agree   \n",
       "4                                            Agree   \n",
       "\n",
       "   I think most of APU students study Japanese language only for their future career  \\\n",
       "0                                     Strongly agree                                   \n",
       "1                                     Strongly agree                                   \n",
       "2                                            Neutral                                   \n",
       "3                                  Strongly disagree                                   \n",
       "4                                           Disagree                                   \n",
       "\n",
       "  on line learning is much more useful than classes at APU  \n",
       "0                                            Neutral        \n",
       "1                                            Neutral        \n",
       "2                                            Neutral        \n",
       "3                                            Neutral        \n",
       "4                                            Neutral        "
      ]
     },
     "execution_count": 99,
     "metadata": {},
     "output_type": "execute_result"
    }
   ],
   "source": [
    "print(data.shape)\n",
    "data.head()"
   ]
  },
  {
   "cell_type": "code",
   "execution_count": 100,
   "metadata": {
    "collapsed": true
   },
   "outputs": [],
   "source": [
    "size_mapping = {'Strongly agree': 5, 'Agree': 4, 'Neutral': 3, 'Disagree': 2, 'Strongly disagree': 1}"
   ]
  },
  {
   "cell_type": "code",
   "execution_count": 101,
   "metadata": {
    "collapsed": false
   },
   "outputs": [],
   "source": [
    "for i in range(6):\n",
    "    data.iloc[:, i] = data.iloc[:, i].map(size_mapping)"
   ]
  },
  {
   "cell_type": "code",
   "execution_count": 102,
   "metadata": {
    "collapsed": false
   },
   "outputs": [
    {
     "data": {
      "text/html": [
       "<div>\n",
       "<table border=\"1\" class=\"dataframe\">\n",
       "  <thead>\n",
       "    <tr style=\"text-align: right;\">\n",
       "      <th></th>\n",
       "      <th>Group work in major classes is useful for my career, because it makes me gain a lot of skill</th>\n",
       "      <th>APU professors have enough methodological skills</th>\n",
       "      <th>I am satisfied with content of the major classes and I think they will be useful in my after university life</th>\n",
       "      <th>I think liberal art subjects are helpful for me</th>\n",
       "      <th>I think most of APU students study Japanese language only for their future career</th>\n",
       "      <th>on line learning is much more useful than classes at APU</th>\n",
       "    </tr>\n",
       "  </thead>\n",
       "  <tbody>\n",
       "    <tr>\n",
       "      <th>0</th>\n",
       "      <td>4</td>\n",
       "      <td>3</td>\n",
       "      <td>5</td>\n",
       "      <td>4</td>\n",
       "      <td>5</td>\n",
       "      <td>3</td>\n",
       "    </tr>\n",
       "    <tr>\n",
       "      <th>1</th>\n",
       "      <td>4</td>\n",
       "      <td>3</td>\n",
       "      <td>5</td>\n",
       "      <td>4</td>\n",
       "      <td>5</td>\n",
       "      <td>3</td>\n",
       "    </tr>\n",
       "    <tr>\n",
       "      <th>2</th>\n",
       "      <td>3</td>\n",
       "      <td>3</td>\n",
       "      <td>3</td>\n",
       "      <td>3</td>\n",
       "      <td>3</td>\n",
       "      <td>3</td>\n",
       "    </tr>\n",
       "    <tr>\n",
       "      <th>3</th>\n",
       "      <td>4</td>\n",
       "      <td>2</td>\n",
       "      <td>3</td>\n",
       "      <td>4</td>\n",
       "      <td>1</td>\n",
       "      <td>3</td>\n",
       "    </tr>\n",
       "    <tr>\n",
       "      <th>4</th>\n",
       "      <td>3</td>\n",
       "      <td>3</td>\n",
       "      <td>3</td>\n",
       "      <td>4</td>\n",
       "      <td>2</td>\n",
       "      <td>3</td>\n",
       "    </tr>\n",
       "  </tbody>\n",
       "</table>\n",
       "</div>"
      ],
      "text/plain": [
       "   Group work in major classes is useful for my career, because it makes me gain a lot of skill  \\\n",
       "0                                                  4                                              \n",
       "1                                                  4                                              \n",
       "2                                                  3                                              \n",
       "3                                                  4                                              \n",
       "4                                                  3                                              \n",
       "\n",
       "   APU professors have enough methodological skills  \\\n",
       "0                                                 3   \n",
       "1                                                 3   \n",
       "2                                                 3   \n",
       "3                                                 2   \n",
       "4                                                 3   \n",
       "\n",
       "   I am satisfied with content of the major classes and I think they will be useful in my after university life  \\\n",
       "0                                                  5                                                              \n",
       "1                                                  5                                                              \n",
       "2                                                  3                                                              \n",
       "3                                                  3                                                              \n",
       "4                                                  3                                                              \n",
       "\n",
       "    I think liberal art subjects are helpful for me  \\\n",
       "0                                                 4   \n",
       "1                                                 4   \n",
       "2                                                 3   \n",
       "3                                                 4   \n",
       "4                                                 4   \n",
       "\n",
       "    I think most of APU students study Japanese language only for their future career  \\\n",
       "0                                                  5                                    \n",
       "1                                                  5                                    \n",
       "2                                                  3                                    \n",
       "3                                                  1                                    \n",
       "4                                                  2                                    \n",
       "\n",
       "   on line learning is much more useful than classes at APU  \n",
       "0                                                  3         \n",
       "1                                                  3         \n",
       "2                                                  3         \n",
       "3                                                  3         \n",
       "4                                                  3         "
      ]
     },
     "execution_count": 102,
     "metadata": {},
     "output_type": "execute_result"
    }
   ],
   "source": [
    "data.head()"
   ]
  },
  {
   "cell_type": "code",
   "execution_count": 125,
   "metadata": {
    "collapsed": true
   },
   "outputs": [],
   "source": [
    "X = data.values # convert dataframe to numpy array"
   ]
  },
  {
   "cell_type": "code",
   "execution_count": 126,
   "metadata": {
    "collapsed": false
   },
   "outputs": [
    {
     "name": "stdout",
     "output_type": "stream",
     "text": [
      "int64\n",
      "[[4 3 5 4 5 3]\n",
      " [4 3 5 4 5 3]\n",
      " [3 3 3 3 3 3]\n",
      " [4 2 3 4 1 3]\n",
      " [3 3 3 4 2 3]\n",
      " [4 2 4 4 2 3]]\n",
      "(51, 6)\n"
     ]
    }
   ],
   "source": [
    "print(X.dtype)\n",
    "print(X[:6])\n",
    "print(X.shape)"
   ]
  },
  {
   "cell_type": "code",
   "execution_count": 127,
   "metadata": {
    "collapsed": false
   },
   "outputs": [],
   "source": [
    "X_full = X.copy()"
   ]
  },
  {
   "cell_type": "code",
   "execution_count": 128,
   "metadata": {
    "collapsed": false
   },
   "outputs": [
    {
     "data": {
      "text/plain": [
       "(51, 6)"
      ]
     },
     "execution_count": 128,
     "metadata": {},
     "output_type": "execute_result"
    }
   ],
   "source": [
    "X_full.shape"
   ]
  },
  {
   "cell_type": "code",
   "execution_count": 131,
   "metadata": {
    "collapsed": false
   },
   "outputs": [
    {
     "name": "stdout",
     "output_type": "stream",
     "text": [
      "(51, 5)\n"
     ]
    }
   ],
   "source": [
    "print(X[:, :5].shape)"
   ]
  },
  {
   "cell_type": "code",
   "execution_count": 132,
   "metadata": {
    "collapsed": true
   },
   "outputs": [],
   "source": [
    "X = X[:, :5]"
   ]
  },
  {
   "cell_type": "code",
   "execution_count": 133,
   "metadata": {
    "collapsed": false
   },
   "outputs": [
    {
     "name": "stdout",
     "output_type": "stream",
     "text": [
      "(51, 5)\n"
     ]
    }
   ],
   "source": [
    "print(X.shape)"
   ]
  },
  {
   "cell_type": "code",
   "execution_count": 134,
   "metadata": {
    "collapsed": false
   },
   "outputs": [],
   "source": [
    "from sklearn.cluster import KMeans"
   ]
  },
  {
   "cell_type": "code",
   "execution_count": null,
   "metadata": {
    "collapsed": true
   },
   "outputs": [],
   "source": []
  },
  {
   "cell_type": "code",
   "execution_count": 135,
   "metadata": {
    "collapsed": false,
    "scrolled": true
   },
   "outputs": [
    {
     "data": {
      "text/plain": [
       "KMeans(algorithm='auto', copy_x=True, init='k-means++', max_iter=300,\n",
       "    n_clusters=3, n_init=10, n_jobs=1, precompute_distances='auto',\n",
       "    random_state=None, tol=0.0001, verbose=0)"
      ]
     },
     "execution_count": 135,
     "metadata": {},
     "output_type": "execute_result"
    }
   ],
   "source": [
    "kmeans = KMeans(n_clusters=3)\n",
    "kmeans.fit(X)"
   ]
  },
  {
   "cell_type": "code",
   "execution_count": 136,
   "metadata": {
    "collapsed": false
   },
   "outputs": [
    {
     "name": "stdout",
     "output_type": "stream",
     "text": [
      "[2 2 1 1 1 1 0 1 2 0 1 1 1 2 2 2 1 1 2 0 2 1 2 2 0 1 2 2 2 1 1 1 2 1 2 1 1\n",
      " 2 1 1 2 2 1 0 1 2 0 0 0 0 0]\n",
      "51\n"
     ]
    }
   ],
   "source": [
    "print(kmeans.labels_)\n",
    "print(len(kmeans.labels_))"
   ]
  },
  {
   "cell_type": "code",
   "execution_count": 137,
   "metadata": {
    "collapsed": false
   },
   "outputs": [
    {
     "name": "stdout",
     "output_type": "stream",
     "text": [
      "/Users/kentasuzuki/dataScience/ml/pyMas\n"
     ]
    }
   ],
   "source": [
    "cd /Users/kentasuzuki/datascience/ml/pyMas"
   ]
  },
  {
   "cell_type": "code",
   "execution_count": 138,
   "metadata": {
    "collapsed": false
   },
   "outputs": [],
   "source": [
    "import mglearn"
   ]
  },
  {
   "cell_type": "code",
   "execution_count": 139,
   "metadata": {
    "collapsed": false
   },
   "outputs": [
    {
     "name": "stderr",
     "output_type": "stream",
     "text": [
      "/Users/kentasuzuki/anaconda3/lib/python3.5/site-packages/sklearn/utils/validation.py:429: DataConversionWarning: Data with input dtype int64 was converted to float64 by StandardScaler.\n",
      "  warnings.warn(msg, _DataConversionWarning)\n"
     ]
    }
   ],
   "source": [
    "from sklearn.preprocessing import StandardScaler\n",
    "scaler = StandardScaler()\n",
    "scaler.fit(X)\n",
    "X_scaled = scaler.transform(X)"
   ]
  },
  {
   "cell_type": "code",
   "execution_count": 140,
   "metadata": {
    "collapsed": true
   },
   "outputs": [],
   "source": [
    "from sklearn.decomposition import PCA"
   ]
  },
  {
   "cell_type": "code",
   "execution_count": 141,
   "metadata": {
    "collapsed": false
   },
   "outputs": [
    {
     "data": {
      "image/png": "[encoded data removed]",
      "text/plain": [
       "<matplotlib.figure.Figure at 0x119e2cf98>"
      ]
     },
     "metadata": {},
     "output_type": "display_data"
    }
   ],
   "source": [
    "# reduce dimension\n",
    "# avoid the curse of dimensionality \n",
    "\n",
    "pca = PCA().fit(X_scaled)\n",
    "plt.plot(np.cumsum(pca.explained_variance_ratio_))\n",
    "plt.title('PCA variance explained')\n",
    "plt.xlabel('number of components')\n",
    "plt.ylabel('cumulative explained variance');"
   ]
  },
  {
   "cell_type": "code",
   "execution_count": 142,
   "metadata": {
    "collapsed": false
   },
   "outputs": [
    {
     "data": {
      "text/plain": [
       "PCA(copy=True, iterated_power='auto', n_components=2, random_state=None,\n",
       "  svd_solver='auto', tol=0.0, whiten=False)"
      ]
     },
     "execution_count": 142,
     "metadata": {},
     "output_type": "execute_result"
    }
   ],
   "source": [
    "# take pca_components=2, which explains about 87% of variance\n",
    "pca = PCA(n_components=2)\n",
    "pca.fit(X)"
   ]
  },
  {
   "cell_type": "code",
   "execution_count": 143,
   "metadata": {
    "collapsed": false
   },
   "outputs": [
    {
     "name": "stdout",
     "output_type": "stream",
     "text": [
      "Original shape: (51, 5)\n",
      "Reduced shape: (51, 2)\n"
     ]
    }
   ],
   "source": [
    "X_pca = pca.transform(X)\n",
    "print(\"Original shape: {0}\".format(X.shape))\n",
    "print(\"Reduced shape: {0}\".format(X_pca.shape))"
   ]
  },
  {
   "cell_type": "code",
   "execution_count": 144,
   "metadata": {
    "collapsed": false
   },
   "outputs": [
    {
     "data": {
      "text/plain": [
       "<matplotlib.collections.PathCollection at 0x119fbfd30>"
      ]
     },
     "execution_count": 144,
     "metadata": {},
     "output_type": "execute_result"
    },
    {
     "data": {
      "image/png": "[encoded data removed]",
      "text/plain": [
       "<matplotlib.figure.Figure at 0x119e1a940>"
      ]
     },
     "metadata": {},
     "output_type": "display_data"
    }
   ],
   "source": [
    "kmeans = KMeans(n_clusters=3)\n",
    "kmeans.fit(X_pca)\n",
    "plt.scatter(X_pca[:, 0], X_pca[:, 1], c=kmeans.labels_, cmap=mglearn.cm3, s=60)\n",
    "plt.scatter(kmeans.cluster_centers_[:, 0], kmeans.cluster_centers_[:, 1], \n",
    "           marker='^', s=100)"
   ]
  },
  {
   "cell_type": "code",
   "execution_count": 145,
   "metadata": {
    "collapsed": false
   },
   "outputs": [
    {
     "name": "stdout",
     "output_type": "stream",
     "text": [
      "k in the 2 loop is: 1\n",
      "i, j are:  0 0\n",
      "k in the 2 loop is: 2\n",
      "i, j are:  0 1\n",
      "k in the 2 loop is: 3\n",
      "i, j are:  1 0\n",
      "k in the 2 loop is: 4\n",
      "i, j are:  1 1\n"
     ]
    },
    {
     "data": {
      "image/png": "[encoded data removed]",
      "text/plain": [
       "<matplotlib.figure.Figure at 0x119ea4e80>"
      ]
     },
     "metadata": {},
     "output_type": "display_data"
    }
   ],
   "source": [
    "fig, ax = plt.subplots(2, 2)\n",
    "plt.suptitle(\"kmeans for the survey\")\n",
    "k = 1\n",
    "for i in range(2):\n",
    "    for j in range(2):\n",
    "        print('k in the 2 loop is:', k)\n",
    "        kmeans = KMeans(n_clusters= k)\n",
    "        kmeans.fit(X_pca)\n",
    "        ax[i, j].scatter(X_pca[:, 0], X_pca[:, 1], c=kmeans.labels_, cmap=mglearn.cm3, s=60)\n",
    "        ax[i, j].scatter(kmeans.cluster_centers_[:, 0], kmeans.cluster_centers_[:, 1], \n",
    "        marker='^', s=100)  # marker is basically for cluster centroid for each group\n",
    "        ax[i, j].set_xlabel('k={0}'.format(k))\n",
    "        ax[i, j].set_xticklabels([])\n",
    "        ax[i, j].set_yticklabels([])\n",
    "        print('i, j are: ', i, j)\n",
    "        k += 1\n",
    "       "
   ]
  },
  {
   "cell_type": "code",
   "execution_count": 146,
   "metadata": {
    "collapsed": false
   },
   "outputs": [],
   "source": [
    "# Elbow method and variance explained\n",
    "from scipy.spatial.distance import cdist, pdist\n",
    "K = range(1, 13)\n",
    "KM = [KMeans(n_clusters=k).fit(X_pca) for k in K]\n",
    "centroids = [k.cluster_centers_ for k in KM]\n",
    "\n",
    "D_k = [cdist(X_pca, cent, 'euclidean') for cent in centroids]\n",
    "cIdx = [np.argmin(D,axis=1) for D in D_k]\n",
    "dist = [np.min(D,axis=1) for D in D_k]\n",
    "avgWithinSS = [sum(d)/X_pca.shape[0] for d in dist]\n",
    "\n",
    "# Total with-in sum of square\n",
    "wcss = [sum(d**2) for d in dist]\n",
    "tss = sum(pdist(X_pca)**2)/X_pca.shape[0]\n",
    "bss = tss-wcss\n",
    "\n",
    "kIdx = 4\n"
   ]
  },
  {
   "cell_type": "code",
   "execution_count": 147,
   "metadata": {
    "collapsed": false
   },
   "outputs": [
    {
     "data": {
      "text/plain": [
       "<matplotlib.text.Text at 0x11a313278>"
      ]
     },
     "execution_count": 147,
     "metadata": {},
     "output_type": "execute_result"
    },
    {
     "data": {
      "image/png": "[encoded data removed]",
      "text/plain": [
       "<matplotlib.figure.Figure at 0x119eb5eb8>"
      ]
     },
     "metadata": {},
     "output_type": "display_data"
    }
   ],
   "source": [
    "# elbow curve\n",
    "fig = plt.figure()\n",
    "ax = fig.add_subplot(111)\n",
    "ax.plot(K, bss/tss*100, 'b*-')\n",
    "plt.grid(True)\n",
    "plt.xlabel('Number of clusters')\n",
    "plt.ylabel('Percentage of variance explained')\n",
    "plt.title('Elbow for KMeans clustering')\n",
    "# optimal number of cluster is 2"
   ]
  },
  {
   "cell_type": "code",
   "execution_count": 148,
   "metadata": {
    "collapsed": false
   },
   "outputs": [
    {
     "data": {
      "text/plain": [
       "<matplotlib.text.Text at 0x11a366208>"
      ]
     },
     "execution_count": 148,
     "metadata": {},
     "output_type": "execute_result"
    },
    {
     "data": {
      "image/png": "[encoded data removed]",
      "text/plain": [
       "<matplotlib.figure.Figure at 0x11a331e48>"
      ]
     },
     "metadata": {},
     "output_type": "display_data"
    }
   ],
   "source": [
    "# elbow curve\n",
    "fig = plt.figure()\n",
    "ax = fig.add_subplot(111)\n",
    "ax.plot(K, avgWithinSS, 'b*-')\n",
    "ax.plot(K[kIdx], avgWithinSS[kIdx], marker='o', markersize=12, \n",
    "markeredgewidth=2, markeredgecolor='r', markerfacecolor='None')\n",
    "plt.grid(True)\n",
    "plt.xlabel('Number of clusters')\n",
    "plt.ylabel('Average within-cluster sum of squares')\n",
    "plt.title('Elbow for KMeans clustering')"
   ]
  },
  {
   "cell_type": "code",
   "execution_count": 149,
   "metadata": {
    "collapsed": true
   },
   "outputs": [],
   "source": [
    "from matplotlib.colors import LinearSegmentedColormap\n",
    "\n",
    "def generate_cmap(colors):\n",
    "    \n",
    "    values = range(len(colors))\n",
    "\n",
    "    vmax = np.ceil(np.max(values))\n",
    "    color_list = []\n",
    "    for v, c in zip(values, colors):\n",
    "        color_list.append( ( v/ vmax, c) )\n",
    "    return LinearSegmentedColormap.from_list('custom_cmap', color_list)\n"
   ]
  },
  {
   "cell_type": "code",
   "execution_count": 150,
   "metadata": {
    "collapsed": true
   },
   "outputs": [],
   "source": [
    "cm = generate_cmap(['mediumblue', 'r', 'limegreen', 'snow', 'pink'])\n"
   ]
  },
  {
   "cell_type": "code",
   "execution_count": 151,
   "metadata": {
    "collapsed": false
   },
   "outputs": [
    {
     "data": {
      "text/plain": [
       "<matplotlib.collections.PathCollection at 0x11a3f8eb8>"
      ]
     },
     "execution_count": 151,
     "metadata": {},
     "output_type": "execute_result"
    },
    {
     "data": {
      "image/png": "[encoded data removed]",
      "text/plain": [
       "<matplotlib.figure.Figure at 0x119ea29b0>"
      ]
     },
     "metadata": {},
     "output_type": "display_data"
    }
   ],
   "source": [
    "kmeans = KMeans(n_clusters=5)\n",
    "kmeans.fit(X_pca)\n",
    "plt.scatter(X_pca[:, 0], X_pca[:, 1], c=kmeans.labels_, cmap=cm,  s=60)\n",
    "plt.scatter(kmeans.cluster_centers_[:, 0], kmeans.cluster_centers_[:, 1], \n",
    "           marker='^', s=100)"
   ]
  },
  {
   "cell_type": "code",
   "execution_count": 152,
   "metadata": {
    "collapsed": false
   },
   "outputs": [
    {
     "name": "stdout",
     "output_type": "stream",
     "text": [
      "kmeans_label with num of cluter 5:\n",
      "[3 3 0 0 0 0 2 4 1 2 0 0 0 1 1 3 0 0 3 2 3 0 3 3 4 0 3 1 3 0 0 0 3 0 3 1 0\n",
      " 3 0 0 1 1 4 1 4 1 2 2 2 4 2]\n"
     ]
    }
   ],
   "source": [
    "print('kmeans_label with num of cluter 5:')\n",
    "print(kmeans.labels_)"
   ]
  },
  {
   "cell_type": "code",
   "execution_count": 153,
   "metadata": {
    "collapsed": false,
    "scrolled": true
   },
   "outputs": [
    {
     "data": {
      "text/html": [
       "<div>\n",
       "<table border=\"1\" class=\"dataframe\">\n",
       "  <thead>\n",
       "    <tr style=\"text-align: right;\">\n",
       "      <th></th>\n",
       "      <th>Group work in major classes is useful for my career, because it makes me gain a lot of skill</th>\n",
       "      <th>APU professors have enough methodological skills</th>\n",
       "      <th>I am satisfied with content of the major classes and I think they will be useful in my after university life</th>\n",
       "      <th>I think liberal art subjects are helpful for me</th>\n",
       "      <th>I think most of APU students study Japanese language only for their future career</th>\n",
       "      <th>on line learning is much more useful than classes at APU</th>\n",
       "    </tr>\n",
       "  </thead>\n",
       "  <tbody>\n",
       "    <tr>\n",
       "      <th>2</th>\n",
       "      <td>3</td>\n",
       "      <td>3</td>\n",
       "      <td>3</td>\n",
       "      <td>3</td>\n",
       "      <td>3</td>\n",
       "      <td>3</td>\n",
       "    </tr>\n",
       "    <tr>\n",
       "      <th>3</th>\n",
       "      <td>4</td>\n",
       "      <td>2</td>\n",
       "      <td>3</td>\n",
       "      <td>4</td>\n",
       "      <td>1</td>\n",
       "      <td>3</td>\n",
       "    </tr>\n",
       "    <tr>\n",
       "      <th>4</th>\n",
       "      <td>3</td>\n",
       "      <td>3</td>\n",
       "      <td>3</td>\n",
       "      <td>4</td>\n",
       "      <td>2</td>\n",
       "      <td>3</td>\n",
       "    </tr>\n",
       "    <tr>\n",
       "      <th>5</th>\n",
       "      <td>4</td>\n",
       "      <td>2</td>\n",
       "      <td>4</td>\n",
       "      <td>4</td>\n",
       "      <td>2</td>\n",
       "      <td>3</td>\n",
       "    </tr>\n",
       "    <tr>\n",
       "      <th>10</th>\n",
       "      <td>4</td>\n",
       "      <td>3</td>\n",
       "      <td>4</td>\n",
       "      <td>2</td>\n",
       "      <td>2</td>\n",
       "      <td>3</td>\n",
       "    </tr>\n",
       "  </tbody>\n",
       "</table>\n",
       "</div>"
      ],
      "text/plain": [
       "    Group work in major classes is useful for my career, because it makes me gain a lot of skill  \\\n",
       "2                                                   3                                              \n",
       "3                                                   4                                              \n",
       "4                                                   3                                              \n",
       "5                                                   4                                              \n",
       "10                                                  4                                              \n",
       "\n",
       "    APU professors have enough methodological skills  \\\n",
       "2                                                  3   \n",
       "3                                                  2   \n",
       "4                                                  3   \n",
       "5                                                  2   \n",
       "10                                                 3   \n",
       "\n",
       "    I am satisfied with content of the major classes and I think they will be useful in my after university life  \\\n",
       "2                                                   3                                                              \n",
       "3                                                   3                                                              \n",
       "4                                                   3                                                              \n",
       "5                                                   4                                                              \n",
       "10                                                  4                                                              \n",
       "\n",
       "     I think liberal art subjects are helpful for me  \\\n",
       "2                                                  3   \n",
       "3                                                  4   \n",
       "4                                                  4   \n",
       "5                                                  4   \n",
       "10                                                 2   \n",
       "\n",
       "     I think most of APU students study Japanese language only for their future career  \\\n",
       "2                                                   3                                    \n",
       "3                                                   1                                    \n",
       "4                                                   2                                    \n",
       "5                                                   2                                    \n",
       "10                                                  2                                    \n",
       "\n",
       "    on line learning is much more useful than classes at APU  \n",
       "2                                                   3         \n",
       "3                                                   3         \n",
       "4                                                   3         \n",
       "5                                                   3         \n",
       "10                                                  3         "
      ]
     },
     "execution_count": 153,
     "metadata": {},
     "output_type": "execute_result"
    }
   ],
   "source": [
    "# group 0\n",
    "data.iloc[list(np.where(kmeans.labels_ == 0)[0])].head()"
   ]
  },
  {
   "cell_type": "code",
   "execution_count": 154,
   "metadata": {
    "collapsed": false
   },
   "outputs": [
    {
     "data": {
      "text/html": [
       "<div>\n",
       "<table border=\"1\" class=\"dataframe\">\n",
       "  <thead>\n",
       "    <tr style=\"text-align: right;\">\n",
       "      <th></th>\n",
       "      <th>Group work in major classes is useful for my career, because it makes me gain a lot of skill</th>\n",
       "      <th>APU professors have enough methodological skills</th>\n",
       "      <th>I am satisfied with content of the major classes and I think they will be useful in my after university life</th>\n",
       "      <th>I think liberal art subjects are helpful for me</th>\n",
       "      <th>I think most of APU students study Japanese language only for their future career</th>\n",
       "      <th>on line learning is much more useful than classes at APU</th>\n",
       "    </tr>\n",
       "  </thead>\n",
       "  <tbody>\n",
       "    <tr>\n",
       "      <th>8</th>\n",
       "      <td>3</td>\n",
       "      <td>2</td>\n",
       "      <td>4</td>\n",
       "      <td>2</td>\n",
       "      <td>5</td>\n",
       "      <td>5</td>\n",
       "    </tr>\n",
       "    <tr>\n",
       "      <th>13</th>\n",
       "      <td>4</td>\n",
       "      <td>2</td>\n",
       "      <td>2</td>\n",
       "      <td>2</td>\n",
       "      <td>4</td>\n",
       "      <td>3</td>\n",
       "    </tr>\n",
       "    <tr>\n",
       "      <th>14</th>\n",
       "      <td>3</td>\n",
       "      <td>3</td>\n",
       "      <td>2</td>\n",
       "      <td>2</td>\n",
       "      <td>4</td>\n",
       "      <td>3</td>\n",
       "    </tr>\n",
       "    <tr>\n",
       "      <th>27</th>\n",
       "      <td>2</td>\n",
       "      <td>4</td>\n",
       "      <td>3</td>\n",
       "      <td>3</td>\n",
       "      <td>4</td>\n",
       "      <td>4</td>\n",
       "    </tr>\n",
       "    <tr>\n",
       "      <th>35</th>\n",
       "      <td>4</td>\n",
       "      <td>2</td>\n",
       "      <td>2</td>\n",
       "      <td>2</td>\n",
       "      <td>3</td>\n",
       "      <td>3</td>\n",
       "    </tr>\n",
       "  </tbody>\n",
       "</table>\n",
       "</div>"
      ],
      "text/plain": [
       "    Group work in major classes is useful for my career, because it makes me gain a lot of skill  \\\n",
       "8                                                   3                                              \n",
       "13                                                  4                                              \n",
       "14                                                  3                                              \n",
       "27                                                  2                                              \n",
       "35                                                  4                                              \n",
       "\n",
       "    APU professors have enough methodological skills  \\\n",
       "8                                                  2   \n",
       "13                                                 2   \n",
       "14                                                 3   \n",
       "27                                                 4   \n",
       "35                                                 2   \n",
       "\n",
       "    I am satisfied with content of the major classes and I think they will be useful in my after university life  \\\n",
       "8                                                   4                                                              \n",
       "13                                                  2                                                              \n",
       "14                                                  2                                                              \n",
       "27                                                  3                                                              \n",
       "35                                                  2                                                              \n",
       "\n",
       "     I think liberal art subjects are helpful for me  \\\n",
       "8                                                  2   \n",
       "13                                                 2   \n",
       "14                                                 2   \n",
       "27                                                 3   \n",
       "35                                                 2   \n",
       "\n",
       "     I think most of APU students study Japanese language only for their future career  \\\n",
       "8                                                   5                                    \n",
       "13                                                  4                                    \n",
       "14                                                  4                                    \n",
       "27                                                  4                                    \n",
       "35                                                  3                                    \n",
       "\n",
       "    on line learning is much more useful than classes at APU  \n",
       "8                                                   5         \n",
       "13                                                  3         \n",
       "14                                                  3         \n",
       "27                                                  4         \n",
       "35                                                  3         "
      ]
     },
     "execution_count": 154,
     "metadata": {},
     "output_type": "execute_result"
    }
   ],
   "source": [
    "# group 1\n",
    "data.iloc[list(np.where(kmeans.labels_ == 1)[0])].head()"
   ]
  },
  {
   "cell_type": "code",
   "execution_count": 155,
   "metadata": {
    "collapsed": false
   },
   "outputs": [
    {
     "data": {
      "text/html": [
       "<div>\n",
       "<table border=\"1\" class=\"dataframe\">\n",
       "  <thead>\n",
       "    <tr style=\"text-align: right;\">\n",
       "      <th></th>\n",
       "      <th>Group work in major classes is useful for my career, because it makes me gain a lot of skill</th>\n",
       "      <th>APU professors have enough methodological skills</th>\n",
       "      <th>I am satisfied with content of the major classes and I think they will be useful in my after university life</th>\n",
       "      <th>I think liberal art subjects are helpful for me</th>\n",
       "      <th>I think most of APU students study Japanese language only for their future career</th>\n",
       "      <th>on line learning is much more useful than classes at APU</th>\n",
       "    </tr>\n",
       "  </thead>\n",
       "  <tbody>\n",
       "    <tr>\n",
       "      <th>6</th>\n",
       "      <td>3</td>\n",
       "      <td>1</td>\n",
       "      <td>1</td>\n",
       "      <td>1</td>\n",
       "      <td>4</td>\n",
       "      <td>3</td>\n",
       "    </tr>\n",
       "    <tr>\n",
       "      <th>9</th>\n",
       "      <td>2</td>\n",
       "      <td>2</td>\n",
       "      <td>1</td>\n",
       "      <td>1</td>\n",
       "      <td>4</td>\n",
       "      <td>4</td>\n",
       "    </tr>\n",
       "    <tr>\n",
       "      <th>19</th>\n",
       "      <td>4</td>\n",
       "      <td>1</td>\n",
       "      <td>1</td>\n",
       "      <td>1</td>\n",
       "      <td>5</td>\n",
       "      <td>3</td>\n",
       "    </tr>\n",
       "    <tr>\n",
       "      <th>46</th>\n",
       "      <td>1</td>\n",
       "      <td>1</td>\n",
       "      <td>1</td>\n",
       "      <td>1</td>\n",
       "      <td>5</td>\n",
       "      <td>5</td>\n",
       "    </tr>\n",
       "    <tr>\n",
       "      <th>47</th>\n",
       "      <td>1</td>\n",
       "      <td>1</td>\n",
       "      <td>1</td>\n",
       "      <td>1</td>\n",
       "      <td>4</td>\n",
       "      <td>5</td>\n",
       "    </tr>\n",
       "  </tbody>\n",
       "</table>\n",
       "</div>"
      ],
      "text/plain": [
       "    Group work in major classes is useful for my career, because it makes me gain a lot of skill  \\\n",
       "6                                                   3                                              \n",
       "9                                                   2                                              \n",
       "19                                                  4                                              \n",
       "46                                                  1                                              \n",
       "47                                                  1                                              \n",
       "\n",
       "    APU professors have enough methodological skills  \\\n",
       "6                                                  1   \n",
       "9                                                  2   \n",
       "19                                                 1   \n",
       "46                                                 1   \n",
       "47                                                 1   \n",
       "\n",
       "    I am satisfied with content of the major classes and I think they will be useful in my after university life  \\\n",
       "6                                                   1                                                              \n",
       "9                                                   1                                                              \n",
       "19                                                  1                                                              \n",
       "46                                                  1                                                              \n",
       "47                                                  1                                                              \n",
       "\n",
       "     I think liberal art subjects are helpful for me  \\\n",
       "6                                                  1   \n",
       "9                                                  1   \n",
       "19                                                 1   \n",
       "46                                                 1   \n",
       "47                                                 1   \n",
       "\n",
       "     I think most of APU students study Japanese language only for their future career  \\\n",
       "6                                                   4                                    \n",
       "9                                                   4                                    \n",
       "19                                                  5                                    \n",
       "46                                                  5                                    \n",
       "47                                                  4                                    \n",
       "\n",
       "    on line learning is much more useful than classes at APU  \n",
       "6                                                   3         \n",
       "9                                                   4         \n",
       "19                                                  3         \n",
       "46                                                  5         \n",
       "47                                                  5         "
      ]
     },
     "execution_count": 155,
     "metadata": {},
     "output_type": "execute_result"
    }
   ],
   "source": [
    "# group 2\n",
    "data.iloc[list(np.where(kmeans.labels_ == 2)[0])].head()"
   ]
  },
  {
   "cell_type": "code",
   "execution_count": 156,
   "metadata": {
    "collapsed": false
   },
   "outputs": [
    {
     "data": {
      "text/html": [
       "<div>\n",
       "<table border=\"1\" class=\"dataframe\">\n",
       "  <thead>\n",
       "    <tr style=\"text-align: right;\">\n",
       "      <th></th>\n",
       "      <th>Group work in major classes is useful for my career, because it makes me gain a lot of skill</th>\n",
       "      <th>APU professors have enough methodological skills</th>\n",
       "      <th>I am satisfied with content of the major classes and I think they will be useful in my after university life</th>\n",
       "      <th>I think liberal art subjects are helpful for me</th>\n",
       "      <th>I think most of APU students study Japanese language only for their future career</th>\n",
       "      <th>on line learning is much more useful than classes at APU</th>\n",
       "    </tr>\n",
       "  </thead>\n",
       "  <tbody>\n",
       "    <tr>\n",
       "      <th>0</th>\n",
       "      <td>4</td>\n",
       "      <td>3</td>\n",
       "      <td>5</td>\n",
       "      <td>4</td>\n",
       "      <td>5</td>\n",
       "      <td>3</td>\n",
       "    </tr>\n",
       "    <tr>\n",
       "      <th>1</th>\n",
       "      <td>4</td>\n",
       "      <td>3</td>\n",
       "      <td>5</td>\n",
       "      <td>4</td>\n",
       "      <td>5</td>\n",
       "      <td>3</td>\n",
       "    </tr>\n",
       "    <tr>\n",
       "      <th>15</th>\n",
       "      <td>3</td>\n",
       "      <td>3</td>\n",
       "      <td>3</td>\n",
       "      <td>4</td>\n",
       "      <td>4</td>\n",
       "      <td>3</td>\n",
       "    </tr>\n",
       "    <tr>\n",
       "      <th>18</th>\n",
       "      <td>5</td>\n",
       "      <td>4</td>\n",
       "      <td>3</td>\n",
       "      <td>4</td>\n",
       "      <td>3</td>\n",
       "      <td>1</td>\n",
       "    </tr>\n",
       "    <tr>\n",
       "      <th>20</th>\n",
       "      <td>4</td>\n",
       "      <td>4</td>\n",
       "      <td>4</td>\n",
       "      <td>4</td>\n",
       "      <td>4</td>\n",
       "      <td>3</td>\n",
       "    </tr>\n",
       "  </tbody>\n",
       "</table>\n",
       "</div>"
      ],
      "text/plain": [
       "    Group work in major classes is useful for my career, because it makes me gain a lot of skill  \\\n",
       "0                                                   4                                              \n",
       "1                                                   4                                              \n",
       "15                                                  3                                              \n",
       "18                                                  5                                              \n",
       "20                                                  4                                              \n",
       "\n",
       "    APU professors have enough methodological skills  \\\n",
       "0                                                  3   \n",
       "1                                                  3   \n",
       "15                                                 3   \n",
       "18                                                 4   \n",
       "20                                                 4   \n",
       "\n",
       "    I am satisfied with content of the major classes and I think they will be useful in my after university life  \\\n",
       "0                                                   5                                                              \n",
       "1                                                   5                                                              \n",
       "15                                                  3                                                              \n",
       "18                                                  3                                                              \n",
       "20                                                  4                                                              \n",
       "\n",
       "     I think liberal art subjects are helpful for me  \\\n",
       "0                                                  4   \n",
       "1                                                  4   \n",
       "15                                                 4   \n",
       "18                                                 4   \n",
       "20                                                 4   \n",
       "\n",
       "     I think most of APU students study Japanese language only for their future career  \\\n",
       "0                                                   5                                    \n",
       "1                                                   5                                    \n",
       "15                                                  4                                    \n",
       "18                                                  3                                    \n",
       "20                                                  4                                    \n",
       "\n",
       "    on line learning is much more useful than classes at APU  \n",
       "0                                                   3         \n",
       "1                                                   3         \n",
       "15                                                  3         \n",
       "18                                                  1         \n",
       "20                                                  3         "
      ]
     },
     "execution_count": 156,
     "metadata": {},
     "output_type": "execute_result"
    }
   ],
   "source": [
    "# group 3\n",
    "data.iloc[list(np.where(kmeans.labels_ == 3)[0])].head()"
   ]
  },
  {
   "cell_type": "code",
   "execution_count": 157,
   "metadata": {
    "collapsed": false
   },
   "outputs": [
    {
     "data": {
      "text/html": [
       "<div>\n",
       "<table border=\"1\" class=\"dataframe\">\n",
       "  <thead>\n",
       "    <tr style=\"text-align: right;\">\n",
       "      <th></th>\n",
       "      <th>Group work in major classes is useful for my career, because it makes me gain a lot of skill</th>\n",
       "      <th>APU professors have enough methodological skills</th>\n",
       "      <th>I am satisfied with content of the major classes and I think they will be useful in my after university life</th>\n",
       "      <th>I think liberal art subjects are helpful for me</th>\n",
       "      <th>I think most of APU students study Japanese language only for their future career</th>\n",
       "      <th>on line learning is much more useful than classes at APU</th>\n",
       "    </tr>\n",
       "  </thead>\n",
       "  <tbody>\n",
       "    <tr>\n",
       "      <th>7</th>\n",
       "      <td>1</td>\n",
       "      <td>1</td>\n",
       "      <td>4</td>\n",
       "      <td>3</td>\n",
       "      <td>3</td>\n",
       "      <td>3</td>\n",
       "    </tr>\n",
       "    <tr>\n",
       "      <th>24</th>\n",
       "      <td>2</td>\n",
       "      <td>1</td>\n",
       "      <td>2</td>\n",
       "      <td>2</td>\n",
       "      <td>2</td>\n",
       "      <td>4</td>\n",
       "    </tr>\n",
       "    <tr>\n",
       "      <th>42</th>\n",
       "      <td>2</td>\n",
       "      <td>2</td>\n",
       "      <td>2</td>\n",
       "      <td>3</td>\n",
       "      <td>2</td>\n",
       "      <td>4</td>\n",
       "    </tr>\n",
       "    <tr>\n",
       "      <th>44</th>\n",
       "      <td>2</td>\n",
       "      <td>2</td>\n",
       "      <td>2</td>\n",
       "      <td>3</td>\n",
       "      <td>3</td>\n",
       "      <td>4</td>\n",
       "    </tr>\n",
       "    <tr>\n",
       "      <th>49</th>\n",
       "      <td>1</td>\n",
       "      <td>1</td>\n",
       "      <td>1</td>\n",
       "      <td>1</td>\n",
       "      <td>1</td>\n",
       "      <td>5</td>\n",
       "    </tr>\n",
       "  </tbody>\n",
       "</table>\n",
       "</div>"
      ],
      "text/plain": [
       "    Group work in major classes is useful for my career, because it makes me gain a lot of skill  \\\n",
       "7                                                   1                                              \n",
       "24                                                  2                                              \n",
       "42                                                  2                                              \n",
       "44                                                  2                                              \n",
       "49                                                  1                                              \n",
       "\n",
       "    APU professors have enough methodological skills  \\\n",
       "7                                                  1   \n",
       "24                                                 1   \n",
       "42                                                 2   \n",
       "44                                                 2   \n",
       "49                                                 1   \n",
       "\n",
       "    I am satisfied with content of the major classes and I think they will be useful in my after university life  \\\n",
       "7                                                   4                                                              \n",
       "24                                                  2                                                              \n",
       "42                                                  2                                                              \n",
       "44                                                  2                                                              \n",
       "49                                                  1                                                              \n",
       "\n",
       "     I think liberal art subjects are helpful for me  \\\n",
       "7                                                  3   \n",
       "24                                                 2   \n",
       "42                                                 3   \n",
       "44                                                 3   \n",
       "49                                                 1   \n",
       "\n",
       "     I think most of APU students study Japanese language only for their future career  \\\n",
       "7                                                   3                                    \n",
       "24                                                  2                                    \n",
       "42                                                  2                                    \n",
       "44                                                  3                                    \n",
       "49                                                  1                                    \n",
       "\n",
       "    on line learning is much more useful than classes at APU  \n",
       "7                                                   3         \n",
       "24                                                  4         \n",
       "42                                                  4         \n",
       "44                                                  4         \n",
       "49                                                  5         "
      ]
     },
     "execution_count": 157,
     "metadata": {},
     "output_type": "execute_result"
    }
   ],
   "source": [
    "# group 4\n",
    "data.iloc[list(np.where(kmeans.labels_ == 4)[0])]"
   ]
  },
  {
   "cell_type": "code",
   "execution_count": 158,
   "metadata": {
    "collapsed": false
   },
   "outputs": [],
   "source": [
    "# 0: those who find APU to be normal environemnt\n",
    "# 1: those who are not satisfied with the euducation received and are job oriented\n",
    "# 2: those who love APU learning environment\n",
    "# 3 : those who like learning evironment at APU except liberal arts\n",
    "# 4: those who do not like group work and professor\n"
   ]
  },
  {
   "cell_type": "code",
   "execution_count": 160,
   "metadata": {
    "collapsed": false
   },
   "outputs": [
    {
     "name": "stderr",
     "output_type": "stream",
     "text": [
      "/Users/kentasuzuki/anaconda3/lib/python3.5/site-packages/sklearn/utils/validation.py:429: DataConversionWarning: Data with input dtype int64 was converted to float64 by StandardScaler.\n",
      "  warnings.warn(msg, _DataConversionWarning)\n"
     ]
    },
    {
     "data": {
      "image/png": "[encoded data removed]",
      "text/plain": [
       "<matplotlib.figure.Figure at 0x119cc5748>"
      ]
     },
     "metadata": {},
     "output_type": "display_data"
    }
   ],
   "source": [
    "# use 6 questions\n",
    "# 9: show how the additional question is represented across the clusters.\n",
    "# reduce dimension\n",
    "# avoid the curse of dimensionality \n",
    "scaler.fit(X_full)\n",
    "X_scaled = scaler.transform(X_full)\n",
    "pca = PCA().fit(X_scaled)\n",
    "plt.plot(np.cumsum(pca.explained_variance_ratio_))\n",
    "plt.title('PCA variance explained')\n",
    "plt.xlabel('number of components')\n",
    "plt.ylabel('cumulative explained variance');"
   ]
  },
  {
   "cell_type": "code",
   "execution_count": 161,
   "metadata": {
    "collapsed": false
   },
   "outputs": [
    {
     "data": {
      "text/plain": [
       "PCA(copy=True, iterated_power='auto', n_components=2, random_state=None,\n",
       "  svd_solver='auto', tol=0.0, whiten=False)"
      ]
     },
     "execution_count": 161,
     "metadata": {},
     "output_type": "execute_result"
    }
   ],
   "source": [
    "# take pca_components=2, which explains about 87% of variance\n",
    "pca = PCA(n_components=2)\n",
    "pca.fit(X)"
   ]
  },
  {
   "cell_type": "code",
   "execution_count": 162,
   "metadata": {
    "collapsed": false
   },
   "outputs": [
    {
     "name": "stdout",
     "output_type": "stream",
     "text": [
      "Original shape: (51, 5)\n",
      "Reduced shape: (51, 2)\n"
     ]
    }
   ],
   "source": [
    "X_pca = pca.transform(X)\n",
    "print(\"Original shape: {0}\".format(X.shape))\n",
    "print(\"Reduced shape: {0}\".format(X_pca.shape))"
   ]
  },
  {
   "cell_type": "code",
   "execution_count": 163,
   "metadata": {
    "collapsed": false
   },
   "outputs": [
    {
     "data": {
      "text/plain": [
       "<matplotlib.collections.PathCollection at 0x11a798080>"
      ]
     },
     "execution_count": 163,
     "metadata": {},
     "output_type": "execute_result"
    },
    {
     "data": {
      "image/png": "[encoded data removed]",
      "text/plain": [
       "<matplotlib.figure.Figure at 0x11a358da0>"
      ]
     },
     "metadata": {},
     "output_type": "display_data"
    }
   ],
   "source": [
    "kmeans = KMeans(n_clusters=5)\n",
    "kmeans.fit(X_pca)\n",
    "plt.scatter(X_pca[:, 0], X_pca[:, 1], c=kmeans.labels_, cmap=cm,  s=60)\n",
    "plt.scatter(kmeans.cluster_centers_[:, 0], kmeans.cluster_centers_[:, 1], \n",
    "           marker='^', s=100)"
   ]
  },
  {
   "cell_type": "code",
   "execution_count": 164,
   "metadata": {
    "collapsed": false
   },
   "outputs": [
    {
     "name": "stdout",
     "output_type": "stream",
     "text": [
      "kmeans_label with num of cluter 5:\n",
      "[4 4 2 2 2 2 3 0 1 3 2 2 2 1 1 4 2 2 4 3 4 2 4 4 0 2 4 1 4 2 2 2 4 2 4 1 2\n",
      " 4 2 2 1 1 0 1 0 1 3 3 3 0 3]\n"
     ]
    }
   ],
   "source": [
    "print('kmeans_label with num of cluter 5:')\n",
    "print(kmeans.labels_)"
   ]
  },
  {
   "cell_type": "code",
   "execution_count": null,
   "metadata": {
    "collapsed": true
   },
   "outputs": [],
   "source": []
  }
 ],
 "metadata": {
  "anaconda-cloud": {},
  "kernelspec": {
   "display_name": "Python [conda root]",
   "language": "python",
   "name": "conda-root-py"
  },
  "language_info": {
   "codemirror_mode": {
    "name": "ipython",
    "version": 3
   },
   "file_extension": ".py",
   "mimetype": "text/x-python",
   "name": "python",
   "nbconvert_exporter": "python",
   "pygments_lexer": "ipython3",
   "version": "3.5.2"
  }
 },
 "nbformat": 4,
 "nbformat_minor": 1
}
